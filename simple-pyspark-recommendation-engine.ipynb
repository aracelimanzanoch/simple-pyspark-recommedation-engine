{
 "cells": [
  {
   "cell_type": "markdown",
   "metadata": {},
   "source": [
    "## Simple recommendation engine implementation with Apache Spark 2.0 MLlib\n",
    "#### @author: Araceli Manzano Chicano\n",
    "#### @email: aramanzano@uma.es"
   ]
  },
  {
   "cell_type": "markdown",
   "metadata": {},
   "source": [
    "### Apache Spark 2.0 MLlib - PySpark on Jupyter Notebook\n",
    "\n",
    "<img src=\"https://cdn-images-1.medium.com/max/1024/1*LKcVKtpoh9FiphC5nWBU8g.png\" alt=\"Drawing\" style=\"width: 300px;\"/>\n",
    "\n",
    "Apache Spark is an open-source cluster-computing framework. Spark provides an interface for programming entire clusters (on top of Hadoop) with implicit data parallelism and fault tolerance. It is up to 100 times than Map Reduce system and it allows performing in-memory cluster computing what is especially well suited for predictive analytics.\n",
    "\n",
    "Spark includes four main tools:\n",
    "\n",
    "- Spark SQL\n",
    "- Spark MLlib\n",
    "- Spark Streaming\n",
    "- Spark GraphX\n",
    "\n",
    "Actually Spark provides high-level APIs for Scala (Spark's native language), Java, R and Python languages, being this last one, PySpark, the one used for this implementation through Jupyter Notebook (Python 2.7 Kernel).\n",
    "\n",
    "Spark MLlib is Spark's machine learning library and it allows us to build scalable predictive/exploratory analytics system easily. For the specific case of a recommendation engine implementation based on a [userID, itemID, rating] datatset, as a rating regression problem, it provides the Collaborative Filtering technique through ALS algorithm, which will be used in this case. More information about this algorithm implementation in the actual Dataframe-based Spark's MLlib Dataframe-based API can be found here: https://spark.apache.org/docs/latest/ml-collaborative-filtering.html.\n",
    "\n",
    "\n",
    "Other references:\n",
    "\n",
    "- https://en.wikipedia.org/wiki/Apache_Spark\n",
    "- https://spark.apache.org/\n",
    "- https://es.hortonworks.com/apache/spark/\n",
    "- https://www.cloudera.com/products/open-source/apache-hadoop/apache-spark.html"
   ]
  },
  {
   "cell_type": "markdown",
   "metadata": {},
   "source": [
    "### Collaborative filtering techniques for recommendation systems\n",
    "\n",
    "Collaborative Filtering techniques explore the idea that relationships exists between products and people's interests. Many recommendation systems, also called recommender systems, use Collaborative Filtering to realize these relationships and to give an accurate recommendation of a product that the user may like or enjoy. Collaborative filtering is a method of making automatic predictions (filtering) about the interests of a user by collecting preferences or taste information from many users (collaborating). These predictions are built upon the existing ratings of other users, who have similar ratings with the active user. Predictions obtained by a collaborative filtering technique are specific to the user, but use information gleaned from many users. This differs from the naive approach of giving an average (non-specific) score for each item of interest, for example based on its number of votes (most popular items).\n",
    "\n",
    "However there are some Challenges with Collaborative Filtering:\n",
    "- Data sparsity: having a Large Dataset will most likely result in a user-item matrix being large and sparse, which may provide a good level of accuracy but also pose a risk to speed. On the other hand, having a small dataset would result in faster speeds but lower accuracy.\n",
    "- 'Cold start': this is where new users do not have a sufficient amount of ratings to give an accurate recommendation.\n",
    "- Scalability: as the number of users increases and the amount of data expands, Collaborative Filtering algorithms will begin to suffer drops in performance, simply due to the sheer increase in volume.\n",
    "- 'Synonyms': refers to the frequency of items that are similar, but are labeled differently and, for instance, treated differently by the recommendation system, even though, functionally, they're very similar to one another.\n",
    "- 'Gray Sheep': refers to the users that have opinions that don't necessarily 'fit' or are alike to any specific grouping. These users do not consistently agree or disagree on products or items, therefore making recommendations a non-beneficiary to them.\n",
    "- Shilling Attacks: are the abuse of this system by rating certain products high and other products low regardless of personal opinion. Therefore allowing that product to be recommended more often.\n",
    "- 'Long Tail' effect: In some recommendation systems, there is a lack of diversity for recommendations. This is because popular items get recommended more often simply because of the fact that more users use and rate them. These ratings represent information that is used by the system, which in turn, creates further recommendations to other users. Now there are more users that'll use, watch, and purchase that product making it even more popular. This creates a cycle where new items are just a shadow behind the popular items resulting in a lack of diversity.\n",
    "\n",
    "For these and other considerations building a recommendation system can be quite difficult sometimes. Here there's just a simple recommendation system built using Apache Spark MLlib (Dataframe-based) ALS algorithm implementation, as a rating regression system, to get some practical insights rather than a technical construction.\n",
    "\n",
    "\n",
    "Some quick references:\n",
    "\n",
    "- https://spark.apache.org/docs/2.2.0/ml-collaborative-filtering.html\n",
    "- https://es.coursera.org/learn/machine-learning/lecture/2WoBV/collaborative-filtering\n",
    "- https://en.wikipedia.org/wiki/Collaborative_filtering\n",
    "- https://web.stanford.edu/~rezab/classes/cme323/S15/notes/lec14.pdf\n",
    "- https://bugra.github.io/work/notes/2014-04-19/alternating-least-squares-method-for-collaborative-filtering/\n",
    "- https://www.quora.com/What-is-the-Alternating-Least-Squares-method-in-recommendation-systems-And-why-does-this-algorithm-work-intuition-behind-this"
   ]
  },
  {
   "cell_type": "markdown",
   "metadata": {},
   "source": [
    "### Use case dataset\n",
    "\n",
    "The dataset used for this implementation has been obtained from \"Recommender System for Online Dating Service\" (Brozovsky, L., Petricek, V.) available in https://arxiv.org/abs/cs/0703042 and http://www.occamslab.com/petricek/data/ for research purpose uses.\n",
    "\n",
    "It consists in a simple database containing 17,359,346 anonymous ratings of 168,791 profiles made by 135,359 dating website (http://www.libimseti.cz/) users, gathered on 4/4/2006. This dataset has been chosen to explore a different use case for a recommendation system and also (and maybe more important) to keep simplicity (because no additional metadata is taken into account in the feature set) and a big enough number of samples (to observe the advantage of speed provided by Spark).\n",
    "\n",
    "All ratings are contained in the file \"ratings.dat\" and are in the\n",
    "following format:\n",
    "\n",
    "    UserID,ProfileID,Rating\n",
    "    - UserID is user who provided rating\n",
    "    - ProfileID is user who has been rated\n",
    "    - UserIDs range between 1 and 135,359\n",
    "    - ProfileIDs range between 1 and 220,970 (not every profile has been rated)\n",
    "    - Ratings are on a 1-10 scale where 10 is best (integer ratings only)\n",
    "    - Only users who provided at least 20 ratings were included\n",
    "    - Users who provided constant ratings were excluded\n",
    "    \n",
    "This dataset and more information about it can be found in http://www.occamslab.com/petricek/data/ and the author's paper \n",
    "https://arxiv.org/abs/cs/0703042 as aforementioned.\n",
    "\n",
    "At this point, our simple implementation can be described as a rating regression or \"filling missing values\" (?) considering the following schema:\n",
    "\n",
    "<div style=\"text-align:center\"><img align=\"center\" src=\"scheme.png\" style=\"width: 400px;\"/></div>"
   ]
  },
  {
   "cell_type": "markdown",
   "metadata": {},
   "source": [
    "### Set environment"
   ]
  },
  {
   "cell_type": "markdown",
   "metadata": {},
   "source": [
    "First, import needed packages:"
   ]
  },
  {
   "cell_type": "code",
   "execution_count": 87,
   "metadata": {},
   "outputs": [],
   "source": [
    "# Import needed packages\n",
    "from __future__ import absolute_import, print_function, division\n",
    "import numpy as np\n",
    "import pandas as pd\n",
    "import seaborn as sns\n",
    "from pyspark.sql import SparkSession, Row\n",
    "import pyspark.sql.functions as F\n",
    "from pyspark.sql.types import IntegerType, StructType, StructField, StringType\n",
    "from pyspark.ml import Pipeline\n",
    "from pyspark.ml.evaluation import RegressionEvaluator\n",
    "from pyspark.ml.recommendation import ALS\n",
    "from pyspark.ml.tuning import CrossValidator, ParamGridBuilder\n",
    "from pyspark.ml.feature import VectorAssembler"
   ]
  },
  {
   "cell_type": "markdown",
   "metadata": {},
   "source": [
    "Then create an instance of SparkSession object as entry point to the funcionality of Spark:"
   ]
  },
  {
   "cell_type": "code",
   "execution_count": 2,
   "metadata": {},
   "outputs": [],
   "source": [
    "# Set Spark Session as entry point\n",
    "spark = SparkSession.builder\\\n",
    "                    .appName(\"Simple recommendation engine using Spark MLlib\")\\\n",
    "                    .config(\"spark.some.config.option\", \"config-value\")\\\n",
    "                    .getOrCreate()\\"
   ]
  },
  {
   "cell_type": "markdown",
   "metadata": {},
   "source": [
    "### Get the data"
   ]
  },
  {
   "cell_type": "markdown",
   "metadata": {},
   "source": [
    "Load the main dataset (ratings.dat) which will be used for the recommendation engine implementation, previously saved in the working directory:"
   ]
  },
  {
   "cell_type": "code",
   "execution_count": 3,
   "metadata": {},
   "outputs": [
    {
     "name": "stdout",
     "output_type": "stream",
     "text": [
      "+-------+----------+------+\n",
      "|user_id|profile_id|rating|\n",
      "+-------+----------+------+\n",
      "|      1|       133|     8|\n",
      "|      1|       720|     6|\n",
      "|      1|       971|    10|\n",
      "+-------+----------+------+\n",
      "only showing top 3 rows\n",
      "\n",
      "root\n",
      " |-- user_id: integer (nullable = true)\n",
      " |-- profile_id: integer (nullable = true)\n",
      " |-- rating: integer (nullable = true)\n",
      "\n"
     ]
    }
   ],
   "source": [
    "# Parse dating agency ratings data as a Spark dataframe\n",
    "ratings = \"ratings.dat\"\n",
    "schema = StructType([StructField(\"user_id\", IntegerType(), False),\n",
    "                     StructField(\"profile_id\", IntegerType(), False),\n",
    "                     StructField(\"rating\", IntegerType(), True)])\n",
    "ratings_df = spark.read.format(\"csv\").option(\"header\", \"false\").option(\"delimiter\", \",\").schema(schema).load(ratings)\n",
    "ratings_df = ratings_df.na.drop(how=\"any\")\n",
    "\n",
    "ratings_df.show(3)\n",
    "ratings_df.printSchema()"
   ]
  },
  {
   "cell_type": "markdown",
   "metadata": {},
   "source": [
    "### Naive approach: recommend most popular and well-rated profiles"
   ]
  },
  {
   "cell_type": "markdown",
   "metadata": {},
   "source": [
    "Let's get some insights about the most popular and well-rated profiles in the gathered dataset. A naive recommendation system implementation approach could consist in just getting those profiles and display as recommendation for all users in the website."
   ]
  },
  {
   "cell_type": "code",
   "execution_count": 4,
   "metadata": {
    "scrolled": true
   },
   "outputs": [
    {
     "name": "stdout",
     "output_type": "stream",
     "text": [
      "+------------------+-----+\n",
      "|popular_profile_id|count|\n",
      "+------------------+-----+\n",
      "|            156148|33389|\n",
      "|             31116|28398|\n",
      "|            193687|23649|\n",
      "|            121859|23639|\n",
      "|             83773|23113|\n",
      "|             22319|21387|\n",
      "|             71636|21284|\n",
      "|             89855|20634|\n",
      "|             20737|18550|\n",
      "|            162707|18224|\n",
      "+------------------+-----+\n",
      "only showing top 10 rows\n",
      "\n"
     ]
    }
   ],
   "source": [
    "# Get top 10 most rated profiles (most popular profiles)\n",
    "top_most_rated_profiles = ratings_df.groupBy(\"profile_id\").count().sort(F.col(\"count\").desc()).limit(50000)\n",
    "top_most_rated_profiles = top_most_rated_profiles.withColumnRenamed(\"profile_id\", \"popular_profile_id\")\n",
    "top_most_rated_profiles.show(10)"
   ]
  },
  {
   "cell_type": "code",
   "execution_count": 5,
   "metadata": {
    "scrolled": true
   },
   "outputs": [
    {
     "name": "stdout",
     "output_type": "stream",
     "text": [
      "+----------+----------+\n",
      "|profile_id|avg_rating|\n",
      "+----------+----------+\n",
      "|    112101|      10.0|\n",
      "|       898|      10.0|\n",
      "|    186236|      10.0|\n",
      "|     36930|      10.0|\n",
      "|     67625|      10.0|\n",
      "|     49914|      10.0|\n",
      "|    159678|      10.0|\n",
      "|    129824|      10.0|\n",
      "|     39488|      10.0|\n",
      "|     66810|      10.0|\n",
      "+----------+----------+\n",
      "only showing top 10 rows\n",
      "\n"
     ]
    }
   ],
   "source": [
    "# Get top 10 better rated profiles\n",
    "avg_rating_by_profile = ratings_df.groupBy(\"profile_id\").agg(F.avg('rating').alias('avg_rating')).sort(F.col(\"avg_rating\").desc())\n",
    "avg_rating_by_profile.show(10)"
   ]
  },
  {
   "cell_type": "code",
   "execution_count": 6,
   "metadata": {
    "scrolled": true
   },
   "outputs": [
    {
     "name": "stdout",
     "output_type": "stream",
     "text": [
      "+------------------+-----+------------------+--------------------+\n",
      "|popular_profile_id|count|        avg_rating|               ratio|\n",
      "+------------------+-----+------------------+--------------------+\n",
      "|              1238|  209| 4.172248803827751|0.019962912936974882|\n",
      "|              1591|   71| 5.633802816901408|  0.0793493354493156|\n",
      "|              1645|  100|              5.03|0.050300000000000004|\n",
      "|              1959|   68| 5.323529411764706|  0.0782871972318339|\n",
      "|              5518|  133|3.6315789473684212|0.027305104867431738|\n",
      "+------------------+-----+------------------+--------------------+\n",
      "only showing top 5 rows\n",
      "\n"
     ]
    }
   ],
   "source": [
    "# Compute a ration between rating value and popularity\n",
    "top_profiles = top_most_rated_profiles.join(avg_rating_by_profile, top_most_rated_profiles[\"popular_profile_id\"] == avg_rating_by_profile[\"profile_id\"], \"left_outer\").drop('profile_id').withColumn(\"ratio\", F.col(\"avg_rating\") / F.col(\"count\"))\n",
    "top_profiles.show(5)"
   ]
  },
  {
   "cell_type": "code",
   "execution_count": 7,
   "metadata": {
    "scrolled": true
   },
   "outputs": [
    {
     "name": "stdout",
     "output_type": "stream",
     "text": [
      "+------------------+------------------+\n",
      "|popular_profile_id|             ratio|\n",
      "+------------------+------------------+\n",
      "|            141167|0.1724137931034483|\n",
      "|            214508|0.1724137931034483|\n",
      "|            121533|0.1724137931034483|\n",
      "|            159206|0.1724137931034483|\n",
      "|             78319|0.1724137931034483|\n",
      "+------------------+------------------+\n",
      "only showing top 5 rows\n",
      "\n"
     ]
    }
   ],
   "source": [
    "# Top profiles sorted by the relation average rating - number of times rated\n",
    "top_profiles.select(\"popular_profile_id\", \"ratio\").sort(F.col(\"ratio\").desc()).show(5)"
   ]
  },
  {
   "cell_type": "markdown",
   "metadata": {},
   "source": [
    "Are there any trends regarding the gender of the user profiles on the dating website?"
   ]
  },
  {
   "cell_type": "code",
   "execution_count": 62,
   "metadata": {
    "scrolled": false
   },
   "outputs": [
    {
     "name": "stdout",
     "output_type": "stream",
     "text": [
      "+----------+------+\n",
      "|profile_id|gender|\n",
      "+----------+------+\n",
      "|         1|     F|\n",
      "|         2|     F|\n",
      "|         3|     U|\n",
      "+----------+------+\n",
      "only showing top 3 rows\n",
      "\n"
     ]
    }
   ],
   "source": [
    "# Parse profiles gender data as a Spark dataframe\n",
    "gender_data = \"gender.dat\"\n",
    "schema = StructType([StructField(\"profile_id\", IntegerType(), False),\n",
    "                     StructField(\"gender\", StringType(), False)])\n",
    "gender_df = spark.read.format(\"csv\").option(\"header\", \"false\").option(\"delimiter\", \",\").schema(schema).load(gender_data)\n",
    "gender_df.show(3)"
   ]
  },
  {
   "cell_type": "code",
   "execution_count": 63,
   "metadata": {
    "scrolled": false
   },
   "outputs": [
    {
     "name": "stdout",
     "output_type": "stream",
     "text": [
      "+------------------+-----+------------------+--------------------+------+\n",
      "|popular_profile_id|count|        avg_rating|               ratio|gender|\n",
      "+------------------+-----+------------------+--------------------+------+\n",
      "|              1238|  209| 4.172248803827751|0.019962912936974882|     M|\n",
      "|              1591|   71| 5.633802816901408|  0.0793493354493156|     F|\n",
      "|              1645|  100|              5.03|0.050300000000000004|     F|\n",
      "|              1959|   68| 5.323529411764706|  0.0782871972318339|     M|\n",
      "|              5518|  133|3.6315789473684212|0.027305104867431738|     F|\n",
      "+------------------+-----+------------------+--------------------+------+\n",
      "only showing top 5 rows\n",
      "\n"
     ]
    }
   ],
   "source": [
    "# Get top popular profiles with average rating and gender information\n",
    "top_profiles_gender = top_profiles.join(gender_df, top_profiles[\"popular_profile_id\"] == gender_df[\"profile_id\"], \"left_outer\").drop('profile_id')\n",
    "top_profiles_gender.show(5, truncate=True)"
   ]
  },
  {
   "cell_type": "code",
   "execution_count": 68,
   "metadata": {},
   "outputs": [
    {
     "name": "stdout",
     "output_type": "stream",
     "text": [
      "ID and gender of the most popular profile:\n",
      "+------------------+------+-----+-----------------+\n",
      "|popular_profile_id|gender|count|       avg_rating|\n",
      "+------------------+------+-----+-----------------+\n",
      "|             31116|     M|28398|7.790583843932671|\n",
      "+------------------+------+-----+-----------------+\n",
      "only showing top 1 row\n",
      "\n"
     ]
    }
   ],
   "source": [
    "# Gender of the most popular profile, avoiding Unknown gender profiles\n",
    "print(\"ID and gender of the most popular profile:\")\n",
    "top_profiles_gender.filter(gender_df.gender != \"U\").select(\"popular_profile_id\", \"gender\", \"count\", \"avg_rating\").sort(F.col(\"count\").desc()).show(1)"
   ]
  },
  {
   "cell_type": "markdown",
   "metadata": {},
   "source": [
    "The most popular profile was a male profile."
   ]
  },
  {
   "cell_type": "code",
   "execution_count": 69,
   "metadata": {},
   "outputs": [
    {
     "name": "stdout",
     "output_type": "stream",
     "text": [
      "ID and gender of the best rated profile:\n",
      "+------------------+------+-----+----------+\n",
      "|popular_profile_id|gender|count|avg_rating|\n",
      "+------------------+------+-----+----------+\n",
      "|             67169|     M|  102|      10.0|\n",
      "+------------------+------+-----+----------+\n",
      "only showing top 1 row\n",
      "\n"
     ]
    }
   ],
   "source": [
    "# Gender of the best rated profile\n",
    "print(\"ID and gender of the best rated profile:\")\n",
    "top_profiles_gender.filter(gender_df.gender != \"U\").select(\"popular_profile_id\", \"gender\", \"count\", \"avg_rating\").sort(F.col(\"avg_rating\").desc()).show(1)"
   ]
  },
  {
   "cell_type": "markdown",
   "metadata": {},
   "source": [
    "The best rated profile in average was a male profile."
   ]
  },
  {
   "cell_type": "code",
   "execution_count": 70,
   "metadata": {},
   "outputs": [
    {
     "name": "stdout",
     "output_type": "stream",
     "text": [
      "+------+--------------------+\n",
      "|gender|avg_rating_by_gender|\n",
      "+------+--------------------+\n",
      "|     M|     6.1910968513945|\n",
      "|     F|   5.161122966430577|\n",
      "+------+--------------------+\n",
      "\n"
     ]
    }
   ],
   "source": [
    "# Average rating by gender\n",
    "avg_rating_by_gender = top_profiles_gender.filter(gender_df.gender != \"U\").groupBy(\"gender\").agg(F.avg('avg_rating').alias('avg_rating_by_gender')).sort(F.col(\"avg_rating_by_gender\").desc())\n",
    "avg_rating_by_gender.show()"
   ]
  },
  {
   "cell_type": "markdown",
   "metadata": {},
   "source": [
    "Male profiles are better rated than female profiles in average in the dataset."
   ]
  },
  {
   "cell_type": "code",
   "execution_count": 71,
   "metadata": {},
   "outputs": [
    {
     "name": "stdout",
     "output_type": "stream",
     "text": [
      "+------+---------------------+\n",
      "|gender|total_rates_by_gender|\n",
      "+------+---------------------+\n",
      "|     M|              8156451|\n",
      "|     F|              4509053|\n",
      "+------+---------------------+\n",
      "\n"
     ]
    }
   ],
   "source": [
    "# Total rates by gender\n",
    "total_votes_by_gender = top_profiles_gender.filter(gender_df.gender != \"U\").groupBy(\"gender\").agg(F.sum('count').alias('total_rates_by_gender')).sort(F.col(\"total_rates_by_gender\").desc())\n",
    "total_votes_by_gender.show()"
   ]
  },
  {
   "cell_type": "markdown",
   "metadata": {},
   "source": [
    "Male profiles are also more popular within the datset."
   ]
  },
  {
   "cell_type": "markdown",
   "metadata": {},
   "source": [
    "### Collaborative filtering - ALS algorithm for rating prediction"
   ]
  },
  {
   "cell_type": "markdown",
   "metadata": {},
   "source": [
    "Now let's implement a simple recommendation system based on user profiles rating prediction using Spark 2.0 MLlib:"
   ]
  },
  {
   "cell_type": "code",
   "execution_count": 19,
   "metadata": {},
   "outputs": [
    {
     "name": "stdout",
     "output_type": "stream",
     "text": [
      "+-------+----------+------+------------------+\n",
      "|user_id|profile_id|rating|       norm_rating|\n",
      "+-------+----------+------+------------------+\n",
      "|      1|       133|     8|0.7777777777777778|\n",
      "|      1|       720|     6|0.5555555555555556|\n",
      "|      1|       971|    10|               1.0|\n",
      "|      1|      1095|     7|0.6666666666666666|\n",
      "|      1|      1616|    10|               1.0|\n",
      "+-------+----------+------+------------------+\n",
      "only showing top 5 rows\n",
      "\n"
     ]
    }
   ],
   "source": [
    "# Normalize rating column\n",
    "min_rating = 1\n",
    "max_rating = 10\n",
    "ratings_df = ratings_df.withColumn('norm_rating', (ratings_df.rating-min_rating)/(max_rating-min_rating))\n",
    "ratings_df.show(5)"
   ]
  },
  {
   "cell_type": "code",
   "execution_count": 23,
   "metadata": {},
   "outputs": [
    {
     "name": "stdout",
     "output_type": "stream",
     "text": [
      "+-------+----------+------------------+\n",
      "|user_id|profile_id|             label|\n",
      "+-------+----------+------------------+\n",
      "|      1|       133|0.7777777777777778|\n",
      "|      1|       720|0.5555555555555556|\n",
      "|      1|       971|               1.0|\n",
      "|      1|      1095|0.6666666666666666|\n",
      "|      1|      1616|               1.0|\n",
      "+-------+----------+------------------+\n",
      "only showing top 5 rows\n",
      "\n"
     ]
    }
   ],
   "source": [
    "df = ratings_df.select(\"user_id\",\"profile_id\",\"norm_rating\").withColumnRenamed(\"norm_rating\", \"label\")\n",
    "df.show(5)"
   ]
  },
  {
   "cell_type": "code",
   "execution_count": 92,
   "metadata": {
    "scrolled": true
   },
   "outputs": [
    {
     "data": {
      "text/html": [
       "<div>\n",
       "<style scoped>\n",
       "    .dataframe tbody tr th:only-of-type {\n",
       "        vertical-align: middle;\n",
       "    }\n",
       "\n",
       "    .dataframe tbody tr th {\n",
       "        vertical-align: top;\n",
       "    }\n",
       "\n",
       "    .dataframe thead th {\n",
       "        text-align: right;\n",
       "    }\n",
       "</style>\n",
       "<table border=\"1\" class=\"dataframe\">\n",
       "  <thead>\n",
       "    <tr style=\"text-align: right;\">\n",
       "      <th></th>\n",
       "      <th>user_id</th>\n",
       "      <th>profile_id</th>\n",
       "      <th>label</th>\n",
       "    </tr>\n",
       "  </thead>\n",
       "  <tbody>\n",
       "    <tr>\n",
       "      <th>0</th>\n",
       "      <td>1</td>\n",
       "      <td>133</td>\n",
       "      <td>0.777778</td>\n",
       "    </tr>\n",
       "    <tr>\n",
       "      <th>1</th>\n",
       "      <td>1</td>\n",
       "      <td>720</td>\n",
       "      <td>0.555556</td>\n",
       "    </tr>\n",
       "    <tr>\n",
       "      <th>2</th>\n",
       "      <td>1</td>\n",
       "      <td>971</td>\n",
       "      <td>1.000000</td>\n",
       "    </tr>\n",
       "    <tr>\n",
       "      <th>3</th>\n",
       "      <td>1</td>\n",
       "      <td>1095</td>\n",
       "      <td>0.666667</td>\n",
       "    </tr>\n",
       "    <tr>\n",
       "      <th>4</th>\n",
       "      <td>1</td>\n",
       "      <td>1616</td>\n",
       "      <td>1.000000</td>\n",
       "    </tr>\n",
       "    <tr>\n",
       "      <th>5</th>\n",
       "      <td>1</td>\n",
       "      <td>1978</td>\n",
       "      <td>0.666667</td>\n",
       "    </tr>\n",
       "    <tr>\n",
       "      <th>6</th>\n",
       "      <td>1</td>\n",
       "      <td>2145</td>\n",
       "      <td>0.777778</td>\n",
       "    </tr>\n",
       "    <tr>\n",
       "      <th>7</th>\n",
       "      <td>1</td>\n",
       "      <td>2211</td>\n",
       "      <td>0.777778</td>\n",
       "    </tr>\n",
       "    <tr>\n",
       "      <th>8</th>\n",
       "      <td>1</td>\n",
       "      <td>3751</td>\n",
       "      <td>0.666667</td>\n",
       "    </tr>\n",
       "    <tr>\n",
       "      <th>9</th>\n",
       "      <td>1</td>\n",
       "      <td>4062</td>\n",
       "      <td>0.222222</td>\n",
       "    </tr>\n",
       "  </tbody>\n",
       "</table>\n",
       "</div>"
      ],
      "text/plain": [
       "   user_id  profile_id     label\n",
       "0        1         133  0.777778\n",
       "1        1         720  0.555556\n",
       "2        1         971  1.000000\n",
       "3        1        1095  0.666667\n",
       "4        1        1616  1.000000\n",
       "5        1        1978  0.666667\n",
       "6        1        2145  0.777778\n",
       "7        1        2211  0.777778\n",
       "8        1        3751  0.666667\n",
       "9        1        4062  0.222222"
      ]
     },
     "execution_count": 92,
     "metadata": {},
     "output_type": "execute_result"
    }
   ],
   "source": [
    "pandas_df = df.limit(10000).toPandas()\n",
    "pandas_df.head(10)"
   ]
  },
  {
   "cell_type": "code",
   "execution_count": 95,
   "metadata": {},
   "outputs": [
    {
     "data": {
      "text/plain": [
       "<matplotlib.axes._subplots.AxesSubplot at 0x7f1a5202b050>"
      ]
     },
     "execution_count": 95,
     "metadata": {},
     "output_type": "execute_result"
    },
    {
     "data": {
      "image/png": "[encoded data removed]",
      "text/plain": [
       "<matplotlib.figure.Figure at 0x7f1a52014350>"
      ]
     },
     "metadata": {},
     "output_type": "display_data"
    }
   ],
   "source": [
    "# Ratings distribution for a sample of 10000 users\n",
    "sns.violinplot([pandas_df.label])"
   ]
  },
  {
   "cell_type": "markdown",
   "metadata": {},
   "source": [
    "Without considering any unbalance in the dataset, let's split it into a cross-validation subset and a test subset (for overfitting evaluation):"
   ]
  },
  {
   "cell_type": "code",
   "execution_count": 25,
   "metadata": {},
   "outputs": [],
   "source": [
    "# Split into train and test subsets\n",
    "(cv_data, test) = df.randomSplit([0.8, 0.2])"
   ]
  },
  {
   "cell_type": "markdown",
   "metadata": {},
   "source": [
    "##### Model selection\n",
    "Model selection process will be performed through cross-validation analysis with automatic hyperparameter tunning. This tunning is done by defining a grid of model's hyperparameters combinations and running a grid search over the combinations to compare the performance of the resulting models and finally get the optimal one. The ALS hyperparameters are:\n",
    "\n",
    "- rank = the number of latent factors in the model (4, 8 and 12 as selected values)\n",
    "- maxIter = the maximum number of iterations (default value)\n",
    "- regParam = the regularization parameter (0.1, 0.05 and 0.01 as selected values)\n",
    "\n",
    "The previous process can be rapidly implemented using Spark CrossValidator function.\n",
    "\n",
    "In order to measure how good each model hyperparamenter selection is so we can compare it against other tries to finally keep the best ALS model, we have to set a evaluator based on the Root Mean Square Error (RMSE) as it is commonly used as main evaluation metric in regression analysis. RMSE compares the predicted values from the training set with the real values present in the validation set. By adding the absolute error od the differences and taking the average of those values we get a measure of the model's error. The  smaller  the  error, the better the forecasting ability of that model according to the RMSE criterion.\n",
    "\n",
    "However, text books and research papers in the field (e.g. F.O. Isinkayea, Y.O. Folajimib, B.A. Ojokohc, 2015) recommend using RankingMetrics-like evaluations to compute metrics such as average precision at K or MAP, etc. More information can be obtained here: https://ac.els-cdn.com/S1110866515000341/1-s2.0-S1110866515000341-main.pdf?_tid=c6864687-4a8f-45cb-ad27-d8c0b6ff58cc&acdnat=1526400969_04e6762edfb3fcebebc42652fcf9636f"
   ]
  },
  {
   "cell_type": "code",
   "execution_count": null,
   "metadata": {},
   "outputs": [],
   "source": [
    "# Set model\n",
    "als = ALS(userCol=\"user_id\", itemCol=\"profile_id\", ratingCol=\"label\", coldStartStrategy=\"drop\", seed=0, nonnegative=True)\n",
    "\n",
    "# Set considered parameter grid\n",
    "paramGrid = ParamGridBuilder().addGrid(als.regParam, [0.1, 0.05, 0.01]).addGrid(als.rank, [4, 8, 12]).build()\n",
    "\n",
    "# Set evaluator\n",
    "modelEvaluator = RegressionEvaluator(metricName=\"rmse\")\n",
    "\n",
    "# Set cross validator instance\n",
    "crossval = CrossValidator(estimator=als,\n",
    "                          estimatorParamMaps=paramGrid,\n",
    "                          evaluator=modelEvaluator,\n",
    "                          numFolds=10)\n",
    "\n",
    "# Perform cross-validation\n",
    "cvModel = crossval.fit(cv_data)"
   ]
  },
  {
   "cell_type": "code",
   "execution_count": 31,
   "metadata": {},
   "outputs": [
    {
     "name": "stdout",
     "output_type": "stream",
     "text": [
      "Best number of latent factors (rank parameter): 8\n",
      "Best value of regularization factor: 0.01\n",
      "Max Iterations: 10\n"
     ]
    }
   ],
   "source": [
    "# Select best model and get its parameters\n",
    "best_als_model = cvModel.bestModel\n",
    "print(\"Best number of latent factors (rank parameter): \" + str(best_als_model.rank))\n",
    "print(\"Best value of regularization factor: \" + str(best_als_model._java_obj.parent().getRegParam()))\n",
    "print(\"Max Iterations: \" + str(best_als_model._java_obj.parent().getMaxIter()))"
   ]
  },
  {
   "cell_type": "code",
   "execution_count": 33,
   "metadata": {},
   "outputs": [
    {
     "name": "stdout",
     "output_type": "stream",
     "text": [
      "Predictions based on a random test subset:\n",
      "+-------+----------+------------------+----------+\n",
      "|user_id|profile_id|             label|prediction|\n",
      "+-------+----------+------------------+----------+\n",
      "|  83775|       496|0.6666666666666666| 0.5487299|\n",
      "|  83524|       496|               1.0| 0.9750136|\n",
      "|  28584|       833|               1.0| 0.7296401|\n",
      "| 114979|      1238|0.6666666666666666| 0.5668328|\n",
      "|  96625|      1238|0.6666666666666666|0.43366265|\n",
      "+-------+----------+------------------+----------+\n",
      "only showing top 5 rows\n",
      "\n",
      "Model evaluation on test data:\n",
      "Root-mean-square error (RMSE) = 0.204187073287\n",
      "Mean-square error (MSE) = 0.0416923608976\n",
      "r² metric = 0.650955563635\n",
      "Mean Absolute Error (MAE) = 0.140817836752\n"
     ]
    }
   ],
   "source": [
    "# Make predictions on a random test subset obtained through randomSplit()\n",
    "print(\"Predictions based on a random test subset:\")\n",
    "predictions = best_als_model.transform(test)\n",
    "predictions.show(5)\n",
    "\n",
    "# Evaluate model's performance on test (evaluate overfitting)\n",
    "def overfitting_evaluation(predictions):\n",
    "    # Model evaluation in test - ratings regression evaluation\n",
    "    print(\"Model evaluation on test data:\")\n",
    "    predictions = predictions.na.drop()\n",
    "    # RMSE\n",
    "    rmse_evaluator = RegressionEvaluator(metricName=\"rmse\", labelCol=\"label\", predictionCol=\"prediction\")\n",
    "    rmse = rmse_evaluator.evaluate(predictions)\n",
    "    print(\"Root-mean-square error (RMSE) = \" + str(rmse))\n",
    "    # MSE\n",
    "    mse_evaluator = RegressionEvaluator(metricName=\"mse\", labelCol=\"label\", predictionCol=\"prediction\")\n",
    "    mse = mse_evaluator.evaluate(predictions)\n",
    "    print(\"Mean-square error (MSE) = \" + str(mse))\n",
    "    # R2\n",
    "    r2_evaluator = RegressionEvaluator(metricName=\"r2\", labelCol=\"label\", predictionCol=\"prediction\")\n",
    "    r2 = r2_evaluator.evaluate(predictions)\n",
    "    print(\"r² metric = \" + str(r2))\n",
    "    # MAE\n",
    "    mae_evaluator = RegressionEvaluator(metricName=\"mae\", labelCol=\"label\", predictionCol=\"prediction\")\n",
    "    mae = mae_evaluator.evaluate(predictions)\n",
    "    print(\"Mean Absolute Error (MAE) = \" + str(mae))\n",
    "\n",
    "    return [rmse, mse, r2, mae]\n",
    "\n",
    "random_test_eval = overfitting_evaluation(predictions)"
   ]
  },
  {
   "cell_type": "markdown",
   "metadata": {},
   "source": [
    "In order to get a more accurate evaluation of the model's overfitting or real performance score, once the ALS model with the best hyperparameters' tunning has been selected (model selection process above, done by cross-validation with grid search), a \"cross-testing\" process will be performed by randomly splitting the dataset in test and train subsets through multiple K-folds and finally averaging the evaluation scores results from all of them. This process will bring us a more precise evaluation of our recommendation engine as rating predictor based on new incoming and unknown data:"
   ]
  },
  {
   "cell_type": "code",
   "execution_count": 37,
   "metadata": {
    "scrolled": true
   },
   "outputs": [
    {
     "name": "stdout",
     "output_type": "stream",
     "text": [
      "Kfold: 1\n",
      "Model evaluation on test data:\n",
      "Root-mean-square error (RMSE) = 0.20391433442\n",
      "Mean-square error (MSE) = 0.0415810557818\n",
      "r² metric = 0.652298908326\n",
      "Mean Absolute Error (MAE) = 0.140649161842\n",
      "Kfold: 2\n",
      "Model evaluation on test data:\n",
      "Root-mean-square error (RMSE) = 0.203889882912\n",
      "Mean-square error (MSE) = 0.0415710843538\n",
      "r² metric = 0.652080043098\n",
      "Mean Absolute Error (MAE) = 0.140665389168\n",
      "Kfold: 3\n",
      "Model evaluation on test data:\n",
      "Root-mean-square error (RMSE) = 0.203946162256\n",
      "Mean-square error (MSE) = 0.0415940370991\n",
      "r² metric = 0.651956730196\n",
      "Mean Absolute Error (MAE) = 0.14069721078\n",
      "Kfold: 4\n",
      "Model evaluation on test data:\n",
      "Root-mean-square error (RMSE) = 0.203787149489\n",
      "Mean-square error (MSE) = 0.0415292022968\n",
      "r² metric = 0.652295712351\n",
      "Mean Absolute Error (MAE) = 0.140558859288\n",
      "Kfold: 5\n",
      "Model evaluation on test data:\n",
      "Root-mean-square error (RMSE) = 0.203965428419\n",
      "Mean-square error (MSE) = 0.04160189599\n",
      "r² metric = 0.651672187006\n",
      "Mean Absolute Error (MAE) = 0.140626773966\n"
     ]
    }
   ],
   "source": [
    "def kfold_test_eval(df, Kfolds=5):\n",
    "    rmse_evaluations = []\n",
    "    mse_evaluations = []\n",
    "    r2_evaluations = []\n",
    "    mae_evaluations = []\n",
    "    \n",
    "    for k in range(0, Kfolds):  \n",
    "        (train, test) = df.randomSplit([0.8, 0.2])\n",
    "        tunned_als = als = ALS(userCol=\"user_id\", itemCol=\"profile_id\", ratingCol=\"label\", coldStartStrategy=\"drop\", maxIter=10, regParam=0.01, rank=8)\n",
    "        model = tunned_als.fit(train)\n",
    "        predictions = model.transform(test)\n",
    "        print(\"Kfold: \" + str(k + 1))\n",
    "        k_test_eval = overfitting_evaluation(predictions)\n",
    "        rmse_evaluations.append(k_test_eval[0])\n",
    "        mse_evaluations.append(k_test_eval[1])\n",
    "        r2_evaluations.append(k_test_eval[2])\n",
    "        mae_evaluations.append(k_test_eval[3])\n",
    "        \n",
    "    average_rmse = sum(rmse_evaluations)/float(len(rmse_evaluations))\n",
    "    average_mse = sum(mse_evaluations)/float(len(mse_evaluations))\n",
    "    average_r2 = sum(r2_evaluations)/float(len(r2_evaluations))\n",
    "    average_mae = sum(mae_evaluations)/float(len(mae_evaluations))\n",
    "    \n",
    "    return [average_rmse, average_mse, average_r2, average_mae]\n",
    "\n",
    "[average_rmse, average_mse, average_r2, average_mae] = kfold_test_eval(df)"
   ]
  },
  {
   "cell_type": "code",
   "execution_count": 39,
   "metadata": {},
   "outputs": [
    {
     "name": "stdout",
     "output_type": "stream",
     "text": [
      "Average Root-mean-square error (RMSE) = 0.203900591499\n",
      "Average Mean-square error (MSE) = 0.0415754551043\n",
      "Average r² metric = 0.652060716195\n",
      "Average Mean Absolute Error (MAE) 0.140639479009\n"
     ]
    }
   ],
   "source": [
    "# Average performance score of the selected model:\n",
    "print(\"Average Root-mean-square error (RMSE) = \" + str(average_rmse))\n",
    "print(\"Average Mean-square error (MSE) = \" + str(average_mse))\n",
    "print(\"Average r² metric = \" + str(average_r2))\n",
    "print(\"Average Mean Absolute Error (MAE) \" + str(average_mae))"
   ]
  },
  {
   "cell_type": "markdown",
   "metadata": {},
   "source": [
    "Finally let's obtain some recommendations from the built model for different cases:"
   ]
  },
  {
   "cell_type": "code",
   "execution_count": 96,
   "metadata": {
    "scrolled": true
   },
   "outputs": [
    {
     "name": "stdout",
     "output_type": "stream",
     "text": [
      "+-------+------------------------------------------------------------------------------------------------------------------------------------------------------------------------------------------------------------+\n",
      "|user_id|recommendations                                                                                                                                                                                             |\n",
      "+-------+------------------------------------------------------------------------------------------------------------------------------------------------------------------------------------------------------------+\n",
      "|148    |[[159513, 2.6826572], [135056, 2.2142038], [80297, 2.181056], [199770, 2.0491154], [67442, 1.9784403], [22972, 1.9325198], [128646, 1.9314922], [56050, 1.9247315], [96515, 1.8710849], [179283, 1.8512474]]|\n",
      "+-------+------------------------------------------------------------------------------------------------------------------------------------------------------------------------------------------------------------+\n",
      "only showing top 1 row\n",
      "\n"
     ]
    }
   ],
   "source": [
    "# Generate top 10 profiles recommendations for each user\n",
    "userRecs = best_als_model.recommendForAllUsers(10)\n",
    "userRecs.show(1, truncate=False)"
   ]
  },
  {
   "cell_type": "code",
   "execution_count": 97,
   "metadata": {
    "scrolled": true
   },
   "outputs": [
    {
     "name": "stdout",
     "output_type": "stream",
     "text": [
      "+----------+--------------------------------------------------------------------------------------------------------------------------------------------------------------------------------------------------------+\n",
      "|profile_id|recommendations                                                                                                                                                                                         |\n",
      "+----------+--------------------------------------------------------------------------------------------------------------------------------------------------------------------------------------------------------+\n",
      "|496       |[[10115, 1.7967153], [36243, 1.6167616], [123794, 1.5479522], [79671, 1.5467885], [38123, 1.5259393], [65649, 1.5140268], [66232, 1.4930097], [20044, 1.4844044], [26508, 1.483938], [61468, 1.4789674]]|\n",
      "+----------+--------------------------------------------------------------------------------------------------------------------------------------------------------------------------------------------------------+\n",
      "only showing top 1 row\n",
      "\n"
     ]
    }
   ],
   "source": [
    "# Generate top 10 user recommendations for each profile\n",
    "profileRecs = best_als_model.recommendForAllItems(10)\n",
    "profileRecs.show(1, truncate=False)"
   ]
  },
  {
   "cell_type": "code",
   "execution_count": 43,
   "metadata": {
    "scrolled": true
   },
   "outputs": [
    {
     "name": "stdout",
     "output_type": "stream",
     "text": [
      "+-------+---------------------------------------------------------------------------------------------------------------------------------------------------------------------------------------------------------------+\n",
      "|user_id|recommendations                                                                                                                                                                                                |\n",
      "+-------+---------------------------------------------------------------------------------------------------------------------------------------------------------------------------------------------------------------+\n",
      "|1580   |[[73450, 2.1160717], [196118, 1.9395694], [44768, 1.861454], [46427, 1.8534217], [62877, 1.800837], [121938, 1.7637302], [35786, 1.7616118], [218717, 1.7597885], [185904, 1.7546182], [114965, 1.7449896]]    |\n",
      "|471    |[[56050, 1.8613569], [169405, 1.6265004], [141912, 1.6238357], [199020, 1.5705091], [153801, 1.5702825], [37519, 1.5582786], [168597, 1.5427593], [117322, 1.5213909], [200918, 1.4999101], [90154, 1.4913626]]|\n",
      "|1591   |[[169405, 1.6842599], [216493, 1.6176178], [7782, 1.5960064], [37519, 1.5920119], [168597, 1.5863789], [56050, 1.5832279], [199020, 1.5650901], [107089, 1.5618131], [200918, 1.5434403], [111214, 1.4910805]] |\n",
      "|1342   |[[49049, 1.8087612], [118858, 1.7899785], [219453, 1.7231553], [117973, 1.7054595], [178022, 1.6659847], [143675, 1.652686], [140886, 1.6521295], [159317, 1.6423284], [203180, 1.6299864], [96216, 1.6189286]]|\n",
      "|463    |[[73450, 2.677851], [162209, 1.9098501], [196962, 1.9062479], [179505, 1.8220359], [197634, 1.8119749], [17567, 1.7738258], [219453, 1.7721505], [105422, 1.761188], [47023, 1.7570614], [23472, 1.7502776]]   |\n",
      "|833    |[[80297, 1.6658962], [178535, 1.6586927], [111214, 1.4727457], [21216, 1.4659634], [167313, 1.4581232], [135056, 1.4345964], [56050, 1.4294059], [169405, 1.4051217], [78721, 1.4015284], [49602, 1.395864]]   |\n",
      "|496    |[[167826, 2.0511458], [209453, 1.9527715], [143675, 1.9430621], [205585, 1.939534], [73450, 1.9388179], [219453, 1.9369094], [185904, 1.9364448], [19635, 1.9134604], [141762, 1.8912288], [140446, 1.8898547]]|\n",
      "|148    |[[159513, 2.6826572], [135056, 2.2142038], [80297, 2.181056], [199770, 2.0491154], [67442, 1.9784403], [22972, 1.9325198], [128646, 1.9314922], [56050, 1.9247315], [96515, 1.8710849], [179283, 1.8512474]]   |\n",
      "|1088   |[[190926, 2.1182022], [159513, 2.0326533], [76186, 1.9888866], [80297, 1.954988], [18218, 1.901816], [21662, 1.8908844], [199770, 1.8749667], [155396, 1.8639369], [84832, 1.8371751], [15377, 1.8299328]]     |\n",
      "|1238   |[[127528, 2.096571], [24639, 1.916371], [169405, 1.8475499], [117787, 1.7302287], [168597, 1.7244738], [144968, 1.6855974], [208922, 1.6755896], [187910, 1.6324193], [213142, 1.619712], [197550, 1.619522]]  |\n",
      "+-------+---------------------------------------------------------------------------------------------------------------------------------------------------------------------------------------------------------------+\n",
      "\n"
     ]
    }
   ],
   "source": [
    "# Generate top 10 profile recommendations for a set of 10 users\n",
    "users = test.select(als.getUserCol()).distinct().limit(10)\n",
    "userSubsetRecs = best_als_model.recommendForUserSubset(users, 10)\n",
    "userSubsetRecs.show(truncate=False)"
   ]
  },
  {
   "cell_type": "code",
   "execution_count": 44,
   "metadata": {
    "scrolled": true
   },
   "outputs": [
    {
     "name": "stdout",
     "output_type": "stream",
     "text": [
      "+----------+-----------------------------------------------------------------------------------------------------------------------------------------------------------------------------------------------------------------+\n",
      "|profile_id|recommendations                                                                                                                                                                                                  |\n",
      "+----------+-----------------------------------------------------------------------------------------------------------------------------------------------------------------------------------------------------------------+\n",
      "|128131    |[[88607, 1.2465376], [40188, 1.2444562], [69236, 1.2178707], [82086, 1.2172562], [42639, 1.2150319], [121684, 1.2045647], [91642, 1.1989311], [10115, 1.1987841], [29150, 1.1812139], [66232, 1.1797979]]        |\n",
      "|87462     |[[26871, 1.207882], [81073, 1.2014818], [83148, 1.1523317], [29112, 1.136605], [91642, 1.1039877], [26544, 1.0997831], [118342, 1.0979117], [51208, 1.0882537], [80161, 1.0850104], [121846, 1.0848624]]         |\n",
      "|205392    |[[112652, 1.241207], [29150, 1.228986], [59406, 1.1866542], [79155, 1.1800299], [29996, 1.1729485], [121684, 1.1671597], [1384, 1.1544853], [87323, 1.1533304], [53778, 1.1521593], [25233, 1.14995]]            |\n",
      "|203894    |[[10115, 0.79588294], [36243, 0.7817952], [121684, 0.73701406], [38123, 0.7342589], [88607, 0.73281974], [66232, 0.72805846], [123794, 0.7247406], [34941, 0.72130567], [90661, 0.7179232], [42247, 0.7051606]]  |\n",
      "|44437     |[[101074, 0.68464667], [89420, 0.67187476], [134780, 0.6624583], [29112, 0.6527287], [57924, 0.6328629], [90124, 0.62214154], [90694, 0.6128592], [56006, 0.6121998], [44795, 0.61183506], [79386, 0.609617]]    |\n",
      "|45307     |[[96042, 0.8553329], [93775, 0.84709346], [28601, 0.84427464], [61468, 0.83761144], [67624, 0.8250998], [92606, 0.81036466], [34956, 0.80686474], [18068, 0.80557084], [118820, 0.799636], [53215, 0.7982516]]   |\n",
      "|58797     |[[106893, 1.7288352], [93775, 1.6686077], [49177, 1.6475681], [117178, 1.6382982], [29377, 1.5988771], [44795, 1.5766393], [28601, 1.5587692], [66989, 1.5518527], [79468, 1.5421674], [71088, 1.5284784]]       |\n",
      "|41988     |[[106893, 1.1461915], [96042, 1.1183972], [47540, 1.1158137], [93775, 1.1020718], [95251, 1.0925175], [59908, 1.0858284], [32548, 1.080138], [61468, 1.0478147], [67624, 1.0465776], [28601, 1.0360357]]         |\n",
      "|104508    |[[25233, 0.86325073], [29150, 0.86161196], [15520, 0.82333964], [92621, 0.8047507], [14712, 0.7958485], [72021, 0.77550006], [89329, 0.7706092], [50241, 0.7615911], [51565, 0.7560502], [14114, 0.7536515]]     |\n",
      "|186039    |[[66218, 0.25599483], [128641, 0.25121227], [13264, 0.23711407], [92621, 0.2368906], [12228, 0.2360465], [67624, 0.23511758], [133021, 0.23419699], [115540, 0.23253503], [5568, 0.23180199], [7188, 0.23102544]]|\n",
      "+----------+-----------------------------------------------------------------------------------------------------------------------------------------------------------------------------------------------------------------+\n",
      "\n"
     ]
    }
   ],
   "source": [
    "# Generate top 10 user recommendations for a set of 10 profiles\n",
    "profiles = test.select(als.getItemCol()).distinct().limit(10)\n",
    "profileSubSetRecs = best_als_model.recommendForItemSubset(profiles, 10)\n",
    "profileSubSetRecs.show(truncate=False)"
   ]
  },
  {
   "cell_type": "code",
   "execution_count": 86,
   "metadata": {},
   "outputs": [
    {
     "name": "stdout",
     "output_type": "stream",
     "text": [
      "+----------+------+\n",
      "|profile_id|gender|\n",
      "+----------+------+\n",
      "|      1000|     M|\n",
      "+----------+------+\n",
      "\n",
      "Recommended contact for user 1000:\n",
      "+----------+------+----------+\n",
      "|profile_id|gender|prediction|\n",
      "+----------+------+----------+\n",
      "|     13308|     F| 1.4781343|\n",
      "+----------+------+----------+\n",
      "only showing top 1 row\n",
      "\n"
     ]
    }
   ],
   "source": [
    "# Generate recommendations for a specific user\n",
    "def profiles4userID(als_model, uid, limit=10):\n",
    "    data = df.select(\"profile_id\").distinct().withColumn(\"user_id\", F.lit(uid))\n",
    "    rated_profiles = df.filter(df.user_id == uid).select(\"profile_id\", \"user_id\")\n",
    "    predictions = als_model.transform(data.subtract(rated_profiles)).dropna().orderBy(\"prediction\", ascending=False).limit(limit).select(\"profile_id\", \"prediction\")\n",
    "    predictions.join(gender_df.filter(gender_df.gender != \"U\"), predictions.profile_id == gender_df.profile_id).select(predictions.profile_id, gender_df.gender, predictions.prediction).show(1)\n",
    "\n",
    "gender_df.filter(gender_df.profile_id == \"1000\").show()\n",
    "print(\"Recommended contact for user 1000:\")\n",
    "profiles4userID(best_als_model, 1000)"
   ]
  },
  {
   "cell_type": "markdown",
   "metadata": {},
   "source": [
    "Some observations about PySpark ALS implementation and evaluation results on these spark issues links:\n",
    "\n",
    "https://issues.apache.org/jira/browse/SPARK-14489\n",
    "\n",
    "https://issues.apache.org/jira/browse/SPARK-19345"
   ]
  },
  {
   "cell_type": "markdown",
   "metadata": {},
   "source": [
    "###### References\n",
    "https://datascience.ibm.com/exchange/public/entry/view/99b857815e69353c04d95daefb3b91fa\n",
    "\n",
    "https://endymecy.gitbooks.io/spark-ml-source-analysis/content/%E6%8E%A8%E8%8D%90/papers/Large-scale%20Parallel%20Collaborative%20Filtering%20the%20Netflix%20Prize.pdf\n",
    "\n",
    "http://cs229.stanford.edu/proj2014/Christopher%20Aberger,%20Recommender.pdf\n",
    "\n",
    "http://www.ijircce.com/upload/2017/april/262_Book.pdf\n",
    "\n",
    "https://helda.helsinki.fi/bitstream/handle/10138/156542/andrewsthesis.pdf?sequence=2"
   ]
  }
 ],
 "metadata": {
  "kernelspec": {
   "display_name": "Python 2",
   "language": "python",
   "name": "python2"
  },
  "language_info": {
   "codemirror_mode": {
    "name": "ipython",
    "version": 2
   },
   "file_extension": ".py",
   "mimetype": "text/x-python",
   "name": "python",
   "nbconvert_exporter": "python",
   "pygments_lexer": "ipython2",
   "version": "2.7.12"
  }
 },
 "nbformat": 4,
 "nbformat_minor": 2
}
